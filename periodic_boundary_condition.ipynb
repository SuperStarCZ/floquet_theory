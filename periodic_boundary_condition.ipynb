{
 "cells": [
  {
   "cell_type": "markdown",
   "metadata": {},
   "source": [
    "### Periodic boundary condition\n",
    "\n",
    "https://flipdazed.github.io/blog/python/periodic-boundary-conditions"
   ]
  },
  {
   "cell_type": "markdown",
   "metadata": {},
   "source": [
    "### Assumptions / Simplifications\n",
    "The key assumptions are that we will only require periodic boundary conditions where individual points in the array are selected. This is a sensible assumption and in fact if we don’t do this it creates CHAOS when printing the overloaded arrays by causing infinite recursions.\n",
    "\n",
    "### Wrap function\n",
    "A simple function can be written with the mod function, % in basic python and generalised to operate on an n-dimensional tuple given a specific shape.\n",
    "\n"
   ]
  },
  {
   "cell_type": "code",
   "execution_count": 6,
   "metadata": {},
   "outputs": [],
   "source": [
    "import numpy as np\n",
    "def latticeWrapIdx(index, lattice_shape):\n",
    "    \"\"\"returns periodic lattice index \n",
    "    for a given iterable index\n",
    "    \n",
    "    Required Inputs:\n",
    "        index :: iterable :: one integer for each axis\n",
    "        lattice_shape :: the shape of the lattice to index to\n",
    "    \"\"\"\n",
    "    if not hasattr(index, '__iter__'): return index         # handle integer slices\n",
    "    if len(index) != len(lattice_shape): return index  # must reference a scalar\n",
    "    if any(type(i) == slice for i in index): return index   # slices not supported\n",
    "    if len(index) == len(lattice_shape):               # periodic indexing of scalars\n",
    "        mod_index = tuple(( (i%s + s)%s for i,s in zip(index, lattice_shape)))\n",
    "        return mod_index\n",
    "    raise ValueError('Unexpected index: {}'.format(index))"
   ]
  },
  {
   "cell_type": "code",
   "execution_count": 5,
   "metadata": {},
   "outputs": [
    {
     "name": "stdout",
     "output_type": "stream",
     "text": [
      "Iterating test values. Result: True\n"
     ]
    }
   ],
   "source": [
    "# TESTING\n",
    "\n",
    "\n",
    "arr = np.array([[ 11.,  12.,  13.,  14.],\n",
    "                [ 21.,  22.,  23.,  24.],\n",
    "                [ 31.,  32.,  33.,  34.],\n",
    "                [ 41.,  42.,  43.,  44.]])\n",
    "test_vals = [[(1,1), 22.], [(3,3), 44.], [( 4, 4), 11.], # [index, expected value]\n",
    "             [(3,4), 41.], [(4,3), 14.], [(10,10), 33.]]\n",
    "\n",
    "passed = all([arr[latticeWrapIdx(idx, (4,4))] == act for idx, act in test_vals])\n",
    "print (\"Iterating test values. Result: {}\".format(passed))"
   ]
  },
  {
   "cell_type": "markdown",
   "metadata": {},
   "source": [
    "### Subclassing numpy\n",
    "The wrapping function can be incorporated into a subclassed np.ndarray as described in the link in the introduction:"
   ]
  },
  {
   "cell_type": "code",
   "execution_count": 7,
   "metadata": {},
   "outputs": [],
   "source": [
    "class Periodic_Lattice(np.ndarray):\n",
    "    \"\"\"Creates an n-dimensional ring that joins on boundaries w/ numpy\n",
    "    \n",
    "    Required Inputs\n",
    "        array :: np.array :: n-dim numpy array to use wrap with\n",
    "    \n",
    "    Only currently supports single point selections wrapped around the boundary\n",
    "    \"\"\"\n",
    "    def __new__(cls, input_array, lattice_spacing=None):\n",
    "        \"\"\"__new__ is called by numpy when and explicit constructor is used:\n",
    "        obj = MySubClass(params) otherwise we must rely on __array_finalize\n",
    "         \"\"\"\n",
    "        # Input array is an already formed ndarray instance\n",
    "        # We first cast to be our class type\n",
    "        obj = np.asarray(input_array).view(cls)\n",
    "        \n",
    "        # add the new attribute to the created instance\n",
    "        obj.lattice_shape = input_array.shape\n",
    "        obj.lattice_dim = len(input_array.shape)\n",
    "        obj.lattice_spacing = lattice_spacing\n",
    "        \n",
    "        # Finally, we must return the newly created object:\n",
    "        return obj\n",
    "    \n",
    "    def __getitem__(self, index):\n",
    "        index = self.latticeWrapIdx(index)\n",
    "        return super(Periodic_Lattice, self).__getitem__(index)\n",
    "    \n",
    "    def __setitem__(self, index, item):\n",
    "        index = self.latticeWrapIdx(index)\n",
    "        return super(Periodic_Lattice, self).__setitem__(index, item)\n",
    "    \n",
    "    def __array_finalize__(self, obj):\n",
    "        \"\"\" ndarray.__new__ passes __array_finalize__ the new object, \n",
    "        of our own class (self) as well as the object from which the view has been taken (obj). \n",
    "        See\n",
    "        http://docs.scipy.org/doc/numpy/user/basics.subclassing.html#simple-example-adding-an-extra-attribute-to-ndarray\n",
    "        for more info\n",
    "        \"\"\"\n",
    "        # ``self`` is a new object resulting from\n",
    "        # ndarray.__new__(Periodic_Lattice, ...), therefore it only has\n",
    "        # attributes that the ndarray.__new__ constructor gave it -\n",
    "        # i.e. those of a standard ndarray.\n",
    "        #\n",
    "        # We could have got to the ndarray.__new__ call in 3 ways:\n",
    "        # From an explicit constructor - e.g. Periodic_Lattice():\n",
    "        #   1. obj is None\n",
    "        #       (we're in the middle of the Periodic_Lattice.__new__\n",
    "        #       constructor, and self.info will be set when we return to\n",
    "        #       Periodic_Lattice.__new__)\n",
    "        if obj is None: return\n",
    "        #   2. From view casting - e.g arr.view(Periodic_Lattice):\n",
    "        #       obj is arr\n",
    "        #       (type(obj) can be Periodic_Lattice)\n",
    "        #   3. From new-from-template - e.g lattice[:3]\n",
    "        #       type(obj) is Periodic_Lattice\n",
    "        # \n",
    "        # Note that it is here, rather than in the __new__ method,\n",
    "        # that we set the default value for 'spacing', because this\n",
    "        # method sees all creation of default objects - with the\n",
    "        # Periodic_Lattice.__new__ constructor, but also with\n",
    "        # arr.view(Periodic_Lattice).\n",
    "        #\n",
    "        # These are in effect the default values from these operations\n",
    "        self.lattice_shape = getattr(obj, 'lattice_shape', obj.shape)\n",
    "        self.lattice_dim = getattr(obj, 'lattice_dim', len(obj.shape))\n",
    "        self.lattice_spacing = getattr(obj, 'lattice_spacing', None)\n",
    "        pass\n",
    "    \n",
    "    def latticeWrapIdx(self, index):\n",
    "        \"\"\"returns periodic lattice index \n",
    "        for a given iterable index\n",
    "        \n",
    "        Required Inputs:\n",
    "            index :: iterable :: one integer for each axis\n",
    "        \n",
    "        This is NOT compatible with slicing\n",
    "        \"\"\"\n",
    "        if not hasattr(index, '__iter__'): return index         # handle integer slices\n",
    "        if len(index) != len(self.lattice_shape): return index  # must reference a scalar\n",
    "        if any(type(i) == slice for i in index): return index   # slices not supported\n",
    "        if len(index) == len(self.lattice_shape):               # periodic indexing of scalars\n",
    "            mod_index = tuple(( (i%s + s)%s for i,s in zip(index, self.lattice_shape)))\n",
    "            return mod_index\n",
    "        raise ValueError('Unexpected index: {}'.format(index))"
   ]
  },
  {
   "cell_type": "code",
   "execution_count": 9,
   "metadata": {},
   "outputs": [
    {
     "name": "stdout",
     "output_type": "stream",
     "text": [
      "Iterating test values. Result: True\n"
     ]
    }
   ],
   "source": [
    "# TESTING \n",
    "\n",
    "\n",
    "arr = np.array([[ 11.,  12.,  13.,  14.],\n",
    "                [ 21.,  22.,  23.,  24.],\n",
    "                [ 31.,  32.,  33.,  34.],\n",
    "                [ 41.,  42.,  43.,  44.]])\n",
    "test_vals = [[(1,1), 22.], [(3,3), 44.], [( 4, 4), 11.], # [index, expected value]\n",
    "             [(3,4), 41.], [(4,3), 14.], [(10,10), 33.]]\n",
    "\n",
    "periodic_arr  = Periodic_Lattice(arr)\n",
    "passed = (periodic_arr == arr).all()\n",
    "passed *= all([periodic_arr[idx] == act for idx, act in test_vals])\n",
    "print (\"Iterating test values. Result: {}\".format(passed))"
   ]
  }
 ],
 "metadata": {
  "kernelspec": {
   "display_name": "Python 3",
   "language": "python",
   "name": "python3"
  },
  "language_info": {
   "codemirror_mode": {
    "name": "ipython",
    "version": 3
   },
   "file_extension": ".py",
   "mimetype": "text/x-python",
   "name": "python",
   "nbconvert_exporter": "python",
   "pygments_lexer": "ipython3",
   "version": "3.8.2"
  }
 },
 "nbformat": 4,
 "nbformat_minor": 4
}
