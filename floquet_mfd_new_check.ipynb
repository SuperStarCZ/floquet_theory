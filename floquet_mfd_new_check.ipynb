{
 "cells": [
  {
   "cell_type": "code",
   "execution_count": 1,
   "metadata": {},
   "outputs": [
    {
     "name": "stdout",
     "output_type": "stream",
     "text": [
      "running for N =  40 with 2 processors\n"
     ]
    },
    {
     "name": "stderr",
     "output_type": "stream",
     "text": [
      "/home/mahi/.local/lib/python3.8/site-packages/scipy/integrate/odepack.py:248: ODEintWarning: Excess work done on this call (perhaps wrong Dfun type). Run with full_output = 1 to get quantitative information.\n",
      "  warnings.warn(warning_msg, ODEintWarning)\n",
      "/home/mahi/.local/lib/python3.8/site-packages/scipy/integrate/odepack.py:248: ODEintWarning: Excess work done on this call (perhaps wrong Dfun type). Run with full_output = 1 to get quantitative information.\n",
      "  warnings.warn(warning_msg, ODEintWarning)\n",
      "<ipython-input-1-d26d88b583d1>:84: RuntimeWarning: divide by zero encountered in log\n",
      "  phasefunc = (1j * np.log(evals))/T\n",
      "<ipython-input-1-d26d88b583d1>:84: RuntimeWarning: invalid value encountered in multiply\n",
      "  phasefunc = (1j * np.log(evals))/T\n",
      "<ipython-input-1-d26d88b583d1>:84: RuntimeWarning: invalid value encountered in true_divide\n",
      "  phasefunc = (1j * np.log(evals))/T\n",
      "<ipython-input-1-d26d88b583d1>:84: RuntimeWarning: divide by zero encountered in log\n",
      "  phasefunc = (1j * np.log(evals))/T\n",
      "<ipython-input-1-d26d88b583d1>:84: RuntimeWarning: invalid value encountered in multiply\n",
      "  phasefunc = (1j * np.log(evals))/T\n",
      "<ipython-input-1-d26d88b583d1>:84: RuntimeWarning: invalid value encountered in true_divide\n",
      "  phasefunc = (1j * np.log(evals))/T\n"
     ]
    },
    {
     "name": "stdout",
     "output_type": "stream",
     "text": [
      "time taken 3688.5415246486664 sec\n"
     ]
    },
    {
     "data": {
      "image/png": "[encoded data removed]",
      "text/plain": [
       "<Figure size 432x288 with 1 Axes>"
      ]
     },
     "metadata": {
      "needs_background": "light"
     },
     "output_type": "display_data"
    }
   ],
   "source": [
    "import numpy as np\n",
    "from odeintw import odeintw\n",
    "import matplotlib.pyplot as plt\n",
    "from multiprocessing import Pool\n",
    "from numpy.linalg import multi_dot, norm, eig\n",
    "import math\n",
    "import time\n",
    "\n",
    "start = time.time()\n",
    "\n",
    "cosp_init = 0.0    \n",
    "N = 40\n",
    "h = 25.0\n",
    "h0 = 0.1\n",
    "    \n",
    "q = np.linspace(-0.5, 0.5, N)\n",
    "omega_range = np.linspace(10.5,19.5,90)\n",
    "#bessel = [4*h/2.4048255576957, 4*h/5.52007811028631,\\\n",
    "#              4*h/8.65372791291101, 4*h/11.7915344390142, 4*h/14.9309177084877]\n",
    "bessel = [4*h/5.52007811028631, 4*h/8.65372791291101]\n",
    "omegas = np.hstack((omega_range,bessel))\n",
    "psi = np.eye(N) + (1j) * np.zeros((N,N))\n",
    "\n",
    "cosp = np.zeros((N,N)) + (1j) * np.zeros((N,N))\n",
    "cosp_init = np.zeros((N,N)) + (1j) * np.zeros((N,N))\n",
    "floqEvoluion_mat = np.zeros((N,N)) + (1j) * np.zeros((N,N))\n",
    "\n",
    "title = \"mf floquet dynamics: n \" + str(N)\n",
    "photoname = \"n_\" + str(N) + \"_mfd.jpeg\"\n",
    "filename = \"n_\" + str(N) + \"_mfd.txt\"\n",
    "\n",
    "class Periodic_Lattice(np.ndarray):\n",
    "    def __new__(cls, input_array, lattice_spacing=None):\n",
    "        obj = np.asarray(input_array).view(cls)\n",
    "        obj.lattice_shape = input_array.shape\n",
    "        obj.lattice_dim = len(input_array.shape)\n",
    "        obj.lattice_spacing = lattice_spacing\n",
    "        return obj\n",
    "    \n",
    "    def __getitem__(self, index):\n",
    "        index = self.latticeWrapIdx(index)\n",
    "        return super(Periodic_Lattice, self).__getitem__(index)\n",
    "    \n",
    "    def __setitem__(self, index, item):\n",
    "        index = self.latticeWrapIdx(index)\n",
    "        return super(Periodic_Lattice, self).__setitem__(index, item)\n",
    "    \n",
    "    def __array_finalize__(self, obj):\n",
    "        if obj is None: return\n",
    "        self.lattice_shape = getattr(obj, 'lattice_shape', obj.shape)\n",
    "        self.lattice_dim = getattr(obj, 'lattice_dim', len(obj.shape))\n",
    "        self.lattice_spacing = getattr(obj, 'lattice_spacing', None)\n",
    "        pass\n",
    "    \n",
    "    def latticeWrapIdx(self, index):\n",
    "        if not hasattr(index, '__iter__'): return index         # handle integer slices\n",
    "        if len(index) != len(self.lattice_shape): return index  # must reference a scalar\n",
    "        if any(type(i) == slice for i in index): return index   # slices not supported\n",
    "        if len(index) == len(self.lattice_shape):               # periodic indexing of scalars\n",
    "            mod_index = tuple(( (i%s + s)%s for i,s in zip(index, self.lattice_shape)))\n",
    "            return mod_index\n",
    "        raise ValueError('Unexpected index: {}'.format(index))\n",
    "\n",
    "\n",
    "def floq_jac(periodic_psi,t, h, h0, w, cosp):\n",
    "    drive = h0 + h * np.cos(w * t)\n",
    "    jac = (1j) * N * (-2.0 * q * q - drive * np.sqrt(1.0 - 4.0 * q *q) * cosp)\n",
    "    return jac\n",
    "\n",
    "def floq_func(periodic_psi,t,h,h0,w,cosp):\n",
    "    return np.dot(floq_jac(periodic_psi,t, h0, h, w, cosp), periodic_psi)\n",
    "\n",
    "def floq_evolv(periodic_psi,h,h0,w,cosp):\n",
    "    T = 2 * np.pi/w     # time periode\n",
    "    t = np.linspace(0,2 * np.pi/w,N)      # time range\n",
    "    floqEvoluion_mat = np.zeros((N,N)) + (1j) * np.zeros((N,N))\n",
    "    \n",
    "    for mm in np.arange(N):\n",
    "        psi0 = periodic_psi[mm]       \n",
    "        psi_t = odeintw(floq_func,psi0,t,args=(h,h0,w,cosp), Dfun=floq_jac)\n",
    "        floqEvoluion_mat[mm] = psi_t[N-1]\n",
    "    \n",
    "    evals, evecs = eig(floqEvoluion_mat)\n",
    "    phasefunc = (1j * np.log(evals))/T\n",
    "    return phasefunc\n",
    "    \n",
    "if __name__ == '__main__':\n",
    "    nprocs = 2\n",
    "    p = Pool(processes = nprocs)  \n",
    "    print(\"running for N = \", N, \"with\",nprocs,\"processors\")\n",
    "    periodic_psi  = Periodic_Lattice(psi)       \n",
    "    cospinit = 0.0\n",
    "    \n",
    "    for k in np.arange(N):\n",
    "        for m in np.arange(N):\n",
    "            for l in np.arange(N+1):\n",
    "                for j in np.arange(l+1):\n",
    "                    cospinit = cospinit + np.array([pow((-1),(l+j))/math.factorial(2 * l)* \\\n",
    "                                          math.comb(l,j)* periodic_psi[(k+(l-j),(m))]])\n",
    "            cosp[k,m] = cospinit\n",
    "            cospinit = 0.0\n",
    "            \n",
    "    data = p.starmap(floq_evolv,[(periodic_psi,h,h0,w,cosp) for w in omegas])\n",
    "    \n",
    "    print(\"time taken\",time.time()-start,\"sec\")\n",
    "    \n",
    "    for xx, omg in enumerate(omegas):\n",
    "        #omega = [omg] * N\n",
    "        omega = [4*h/omg] * N\n",
    "        plt.scatter(omega,data[xx].real, color='blue', marker='.', s= 0.1)\n",
    "    plt.title(title)    \n",
    "    plt.xlabel(\"omega\")\n",
    "    plt.ylabel(\"phase function\")\n",
    "    plt.savefig(photoname, dpi=350)\n",
    "    plt.show()"
   ]
  },
  {
   "cell_type": "code",
   "execution_count": 2,
   "metadata": {},
   "outputs": [
    {
     "name": "stdout",
     "output_type": "stream",
     "text": [
      "[41.58305773156363, 18.115685684529797, 11.555713445855405, 8.480660470204269, 6.697511964931233]\n"
     ]
    }
   ],
   "source": [
    "h = 25.0\n",
    "bessel = [4*h/2.4048255576957, 4*h/5.52007811028631,\\\n",
    "              4*h/8.65372791291101, 4*h/11.7915344390142, 4*h/14.9309177084877]\n",
    "print(bessel)"
   ]
  }
 ],
 "metadata": {
  "kernelspec": {
   "display_name": "Python 3",
   "language": "python",
   "name": "python3"
  },
  "language_info": {
   "codemirror_mode": {
    "name": "ipython",
    "version": 3
   },
   "file_extension": ".py",
   "mimetype": "text/x-python",
   "name": "python",
   "nbconvert_exporter": "python",
   "pygments_lexer": "ipython3",
   "version": "3.8.2"
  }
 },
 "nbformat": 4,
 "nbformat_minor": 4
}
